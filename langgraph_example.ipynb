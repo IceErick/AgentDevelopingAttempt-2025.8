{
 "cells": [
  {
   "cell_type": "code",
   "execution_count": 6,
   "id": "b3b5f4d6-3df3-4849-aa28-b626eba6edc9",
   "metadata": {},
   "outputs": [],
   "source": [
    "from typing import Dict, TypedDict\n",
    "from langgraph.graph import StateGraph # framework that helps you design and manage the flow of task in you application using a graph\n"
   ]
  },
  {
   "cell_type": "code",
   "execution_count": 7,
   "id": "ab364d05-5076-4234-ac9b-6e2479103edc",
   "metadata": {},
   "outputs": [],
   "source": [
    "# We now create an AgentState - shared data structure that keeps track of information as your application runs.\n",
    "\n",
    "class AgentState(TypedDict): # State schema\n",
    "    message : str\n",
    "\n",
    "def greeting_node(state: AgentState) -> AgentState:\n",
    "    \"\"\"Simple node that adds a greeting message to the state\"\"\"\n",
    "\n",
    "    state['message'] = 'Hey ' + state['message']\n",
    "\n",
    "    return state "
   ]
  },
  {
   "cell_type": "code",
   "execution_count": 8,
   "id": "b0f25a07-4a97-4df7-9362-41eb3da2ad1c",
   "metadata": {},
   "outputs": [],
   "source": [
    "graph = StateGraph(AgentState) # construct a graph for states.\n",
    "\n",
    "graph.add_node(\"thisIsJustAGreet\", greeting_node)\n",
    "graph.set_entry_point(\"thisIsJustAGreet\")\n",
    "graph.set_finish_point(\"thisIsJustAGreet\")\n",
    "\n",
    "app = graph.compile() # remember to compile graph after construction.\n"
   ]
  },
  {
   "cell_type": "code",
   "execution_count": 9,
   "id": "72a7fd5a",
   "metadata": {},
   "outputs": [
    {
     "data": {
      "image/png": "[encoded data removed]",
      "text/plain": [
       "<IPython.core.display.Image object>"
      ]
     },
     "metadata": {},
     "output_type": "display_data"
    }
   ],
   "source": [
    "from IPython.display import Image, display\n",
    "display(Image(app.get_graph().draw_mermaid_png()))"
   ]
  },
  {
   "cell_type": "code",
   "execution_count": 10,
   "id": "87031bdf",
   "metadata": {},
   "outputs": [],
   "source": [
    "result = app.invoke({\"message\": \"Bob\"})"
   ]
  },
  {
   "cell_type": "code",
   "execution_count": 11,
   "id": "19a6d4e4",
   "metadata": {},
   "outputs": [
    {
     "data": {
      "text/plain": [
       "'Hey Bob'"
      ]
     },
     "execution_count": 11,
     "metadata": {},
     "output_type": "execute_result"
    }
   ],
   "source": [
    "result[\"message\"]"
   ]
  },
  {
   "cell_type": "code",
   "execution_count": null,
   "id": "bcf0ed39",
   "metadata": {},
   "outputs": [],
   "source": []
  }
 ],
 "metadata": {
  "kernelspec": {
   "display_name": "Python 3",
   "language": "python",
   "name": "python3"
  },
  "language_info": {
   "codemirror_mode": {
    "name": "ipython",
    "version": 3
   },
   "file_extension": ".py",
   "mimetype": "text/x-python",
   "name": "python",
   "nbconvert_exporter": "python",
   "pygments_lexer": "ipython3",
   "version": "3.13.5"
  }
 },
 "nbformat": 4,
 "nbformat_minor": 5
}
