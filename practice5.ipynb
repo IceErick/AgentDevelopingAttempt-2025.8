{
 "cells": [
  {
   "cell_type": "code",
   "execution_count": 211,
   "id": "4475053e",
   "metadata": {},
   "outputs": [],
   "source": [
    "from langgraph.graph import StateGraph, END\n",
    "import random\n",
    "from typing import TypedDict, List"
   ]
  },
  {
   "cell_type": "code",
   "execution_count": 212,
   "id": "7f52069c",
   "metadata": {},
   "outputs": [],
   "source": [
    "class AgentState(TypedDict):\n",
    "    player_name: str\n",
    "    guesses: List[int]\n",
    "    attempts: int\n",
    "    lower_bound: int\n",
    "    upper_bound: int\n",
    "    number: int\n",
    "    status: bool"
   ]
  },
  {
   "cell_type": "code",
   "execution_count": 213,
   "id": "7d66c28b",
   "metadata": {},
   "outputs": [],
   "source": [
    "import turtle\n",
    "from langsmith.schemas import AttachmentsOperations\n",
    "\n",
    "\n",
    "def setup_node(state: AgentState) -> AgentState:\n",
    "    state['number'] = random.randint(state['lower_bound'], state['upper_bound'])\n",
    "    state['status'] = False\n",
    "    return state\n",
    "\n",
    "def guess_node(state: AgentState) -> AgentState:\n",
    "    state['guesses'].append(random.randint(state['lower_bound'], state['upper_bound']))\n",
    "    return state\n",
    "\n",
    "def hint_node(state: AgentState) -> AgentState:\n",
    "    if state['guesses'][-1] > state['number']:\n",
    "        print('Bro, too large!')\n",
    "        state['upper_bound'] = state['guesses'][-1] - 1\n",
    "\n",
    "    elif state['guesses'][-1] < state['number']:\n",
    "        print('Bro, too small!')\n",
    "        state['lower_bound'] = state['guesses'][-1] + 1\n",
    "    \n",
    "    else:\n",
    "        print('correct!')\n",
    "        state['status'] = True\n",
    "    \n",
    "    state['attempts'] += 1\n",
    "    return state\n",
    "\n",
    "def loop(state: AgentState) -> AgentState:\n",
    "    if state['status'] == False and state['attempts'] < 7: # use 'and' instead of '&' next time\n",
    "        return 'continue'\n",
    "    else:\n",
    "        return 'end'\n"
   ]
  },
  {
   "cell_type": "code",
   "execution_count": 214,
   "id": "caf3542d",
   "metadata": {},
   "outputs": [],
   "source": [
    "graph = StateGraph(AgentState)\n",
    "\n",
    "graph.add_node('setup', setup_node)\n",
    "graph.add_node('guess', guess_node)\n",
    "graph.add_node('hint', hint_node)\n",
    "graph.add_edge('setup', 'guess')\n",
    "graph.add_edge('guess', 'hint')\n",
    "\n",
    "graph.add_conditional_edges(\n",
    "    'hint',\n",
    "    loop,\n",
    "    {\n",
    "        'continue': 'guess',\n",
    "        'end': END\n",
    "    }\n",
    ")\n",
    "\n",
    "graph.set_entry_point('setup')\n",
    "\n",
    "app = graph.compile()"
   ]
  },
  {
   "cell_type": "code",
   "execution_count": 229,
   "id": "52f8e5df",
   "metadata": {},
   "outputs": [
    {
     "name": "stdout",
     "output_type": "stream",
     "text": [
      "Bro, too small!\n",
      "Bro, too large!\n",
      "Bro, too large!\n",
      "Bro, too small!\n",
      "Bro, too large!\n",
      "Bro, too small!\n",
      "Bro, too small!\n"
     ]
    },
    {
     "data": {
      "text/plain": [
       "{'player_name': 'student',\n",
       " 'guesses': [3, 15, 14, 6, 13, 8, 11],\n",
       " 'attempts': 7,\n",
       " 'lower_bound': 12,\n",
       " 'upper_bound': 12,\n",
       " 'number': 12,\n",
       " 'status': False}"
      ]
     },
     "execution_count": 229,
     "metadata": {},
     "output_type": "execute_result"
    }
   ],
   "source": [
    "app.invoke({'player_name': 'student', 'guesses': [], 'attempts': 0, 'lower_bound': 1, 'upper_bound': 20})"
   ]
  }
 ],
 "metadata": {
  "kernelspec": {
   "display_name": "Python 3",
   "language": "python",
   "name": "python3"
  },
  "language_info": {
   "codemirror_mode": {
    "name": "ipython",
    "version": 3
   },
   "file_extension": ".py",
   "mimetype": "text/x-python",
   "name": "python",
   "nbconvert_exporter": "python",
   "pygments_lexer": "ipython3",
   "version": "3.13.5"
  }
 },
 "nbformat": 4,
 "nbformat_minor": 5
}
