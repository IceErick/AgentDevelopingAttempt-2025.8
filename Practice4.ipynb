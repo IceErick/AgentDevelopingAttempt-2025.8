{
 "cells": [
  {
   "cell_type": "code",
   "execution_count": 1,
   "id": "4a92f36d",
   "metadata": {},
   "outputs": [],
   "source": [
    "from typing import TypedDict, List\n",
    "from langgraph.graph import START, END, StateGraph"
   ]
  },
  {
   "cell_type": "code",
   "execution_count": 2,
   "id": "c4fb2952",
   "metadata": {},
   "outputs": [],
   "source": [
    "import operator\n",
    "from tracemalloc import start\n",
    "from typing import final\n",
    "\n",
    "\n",
    "class AgentState(TypedDict):\n",
    "    number1: int\n",
    "    operation: str\n",
    "    number2: int\n",
    "    number3: int\n",
    "    operation2: str\n",
    "    number4: int\n",
    "    finalNumber: int\n",
    "    finalNumber2: int"
   ]
  },
  {
   "cell_type": "code",
   "execution_count": 3,
   "id": "1f02456a",
   "metadata": {},
   "outputs": [],
   "source": [
    "def adder(state: AgentState) -> AgentState:\n",
    "    \"\"\"This node adds the 2 numbers\"\"\"\n",
    "    \n",
    "    state['finalNumber'] = state['number1'] + state['number2']\n",
    "\n",
    "    return state\n",
    "\n",
    "def subtractor(state: AgentState) -> AgentState:\n",
    "    \"\"\"This node substracts the 2 numbers\"\"\"\n",
    "    state['finalNumber'] = state['number1'] - state['number2']\n",
    "    return state"
   ]
  },
  {
   "cell_type": "code",
   "execution_count": 4,
   "id": "41378538",
   "metadata": {},
   "outputs": [],
   "source": [
    "def adder2(state: AgentState) -> AgentState:\n",
    "    \"\"\"This node adds the 2 numbers\"\"\"\n",
    "    \n",
    "    state['finalNumber2'] = state['number3'] + state['number4']\n",
    "\n",
    "    return state\n",
    "\n",
    "def subtractor2(state: AgentState) -> AgentState:\n",
    "    \"\"\"This node substracts the 2 numbers\"\"\"\n",
    "    state['finalNumber2'] = state['number3'] - state['number4']\n",
    "    return state"
   ]
  },
  {
   "cell_type": "code",
   "execution_count": 5,
   "id": "0a59e176",
   "metadata": {},
   "outputs": [],
   "source": [
    "def route1(state: AgentState) -> AgentState:\n",
    "    if state['operation'] == '+':\n",
    "        return 'addition_operation'\n",
    "    elif state['operation'] == '-':\n",
    "        return 'subtraction_operation'\n",
    "\n",
    "def route2(state: AgentState) -> AgentState:\n",
    "    if state['operation2'] == '+':\n",
    "        return 'addition_operation2'\n",
    "    elif state['operation2'] == '-':\n",
    "        return 'subtraction_operation2'"
   ]
  },
  {
   "cell_type": "code",
   "execution_count": 6,
   "id": "aa903362",
   "metadata": {},
   "outputs": [],
   "source": [
    "graph = StateGraph(AgentState)\n",
    "graph.add_node('add1', adder)\n",
    "graph.add_node('subtract1', subtractor)\n",
    "graph.add_node('add2', adder2)\n",
    "graph.add_node('subtract2', subtractor2)\n",
    "graph.add_node('router1', lambda state:state)\n",
    "graph.add_node('router2', lambda state:state)\n",
    "\n",
    "graph.add_edge(START, 'router1')\n",
    "graph.add_conditional_edges(\n",
    "    'router1',\n",
    "    route1,\n",
    "    {\n",
    "        'addition_operation': 'add1',\n",
    "        'subtraction_operation': 'subtract1'\n",
    "    }\n",
    ") # remeber to use 'add_conditional_edge' to set up a conditional_node\n",
    "graph.add_edge('subtract1', 'router2')\n",
    "graph.add_edge('add1', 'router2')\n",
    "graph.add_conditional_edges(\n",
    "    'router2',\n",
    "    route2,\n",
    "    {\n",
    "        'addition_operation2': 'add2',\n",
    "        'subtraction_operation2': 'subtract2'\n",
    "    }\n",
    ") # remeber to use 'add_conditional_edge' to set up a conditional_node\n",
    "graph.add_edge('subtract2', END)\n",
    "graph.add_edge('add2', END)\n",
    "\n",
    "\n",
    "app = graph.compile()"
   ]
  },
  {
   "cell_type": "code",
   "execution_count": 7,
   "id": "44fd2a11",
   "metadata": {},
   "outputs": [
    {
     "name": "stdout",
     "output_type": "stream",
     "text": [
      "{'number1': 10, 'operation': '-', 'number2': 5, 'number3': 7, 'operation2': '+', 'number4': 2, 'finalNumber': 5, 'finalNumber2': 9}\n"
     ]
    }
   ],
   "source": [
    "new_state = AgentState({'number1': 10, 'operation': \"-\", 'number2': 5, 'number3': 7, 'number4': 2, 'operation2': '+', 'finalNumber': 0, 'finalNumber2': 0})\n",
    "print(app.invoke(new_state))"
   ]
  }
 ],
 "metadata": {
  "kernelspec": {
   "display_name": "Python 3",
   "language": "python",
   "name": "python3"
  },
  "language_info": {
   "codemirror_mode": {
    "name": "ipython",
    "version": 3
   },
   "file_extension": ".py",
   "mimetype": "text/x-python",
   "name": "python",
   "nbconvert_exporter": "python",
   "pygments_lexer": "ipython3",
   "version": "3.13.5"
  }
 },
 "nbformat": 4,
 "nbformat_minor": 5
}
