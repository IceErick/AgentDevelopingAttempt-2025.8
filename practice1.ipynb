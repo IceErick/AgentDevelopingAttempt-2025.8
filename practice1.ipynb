{
 "cells": [
  {
   "cell_type": "code",
   "execution_count": 41,
   "id": "e1580136",
   "metadata": {},
   "outputs": [],
   "source": [
    "from typing import Dict, TypedDict\n",
    "from langgraph.graph import StateGraph"
   ]
  },
  {
   "cell_type": "code",
   "execution_count": 42,
   "id": "d7db7f4f",
   "metadata": {},
   "outputs": [],
   "source": [
    "class Speaking(TypedDict): # forget to use the\n",
    "    name: str # misquoting index within double quotation marks\n",
    "    message: str # misquoting index within double quotation marks"
   ]
  },
  {
   "cell_type": "code",
   "execution_count": null,
   "id": "7762896e",
   "metadata": {},
   "outputs": [],
   "source": [
    "def praise(state: Speaking) -> Speaking: # format of declairing a function!!!!!!\n",
    "    state['message'] = state['name'] + ', you\\'re doing an amazing job learning LangGrpah!'\n",
    "    return state # forgot to use 'return' to return the result."
   ]
  },
  {
   "cell_type": "code",
   "execution_count": null,
   "id": "14d96200",
   "metadata": {},
   "outputs": [],
   "source": [
    "praiseGraph = StateGraph(Speaking)\n",
    "praiseGraph.add_node('praise', praise) # the name of node should be annouced when adding contents of the node.\n",
    "praiseGraph.set_entry_point('praise') # use the name of node you announced previously.\n",
    "praiseGraph.set_finish_point('praise')\n",
    "\n",
    "app = praiseGraph.compile()"
   ]
  },
  {
   "cell_type": "code",
   "execution_count": 49,
   "id": "a41d0a95",
   "metadata": {},
   "outputs": [
    {
     "data": {
      "text/plain": [
       "\"Bob, you're doing an amazing job learning LangGrpah!\""
      ]
     },
     "execution_count": 49,
     "metadata": {},
     "output_type": "execute_result"
    }
   ],
   "source": [
    "from asyncio.windows_events import NULL\n",
    "\n",
    "\n",
    "result = app.invoke({'name': 'Bob'}) # forgot contents for 'message' index. next time, even a specific index dosen't have initial contents, it is still a need to announce it as 'NULL'\n",
    "result[\"message\"]\n"
   ]
  }
 ],
 "metadata": {
  "kernelspec": {
   "display_name": "Python 3",
   "language": "python",
   "name": "python3"
  },
  "language_info": {
   "codemirror_mode": {
    "name": "ipython",
    "version": 3
   },
   "file_extension": ".py",
   "mimetype": "text/x-python",
   "name": "python",
   "nbconvert_exporter": "python",
   "pygments_lexer": "ipython3",
   "version": "3.13.5"
  }
 },
 "nbformat": 4,
 "nbformat_minor": 5
}
