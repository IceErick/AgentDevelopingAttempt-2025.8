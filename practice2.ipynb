{
 "cells": [
  {
   "cell_type": "markdown",
   "id": "6ec84310",
   "metadata": {},
   "source": [
    "# Practice 2"
   ]
  },
  {
   "cell_type": "code",
   "execution_count": 21,
   "id": "4ca7ed40",
   "metadata": {},
   "outputs": [],
   "source": [
    "from typing import TypedDict, List\n",
    "from langgraph.graph import StateGraph\n",
    "import math"
   ]
  },
  {
   "cell_type": "code",
   "execution_count": 22,
   "id": "c1aa1060",
   "metadata": {},
   "outputs": [],
   "source": [
    "class AgentState(TypedDict):\n",
    "    name: str\n",
    "    values: list[int] # use [] instead of ()\n",
    "    operation: str\n",
    "    result: str"
   ]
  },
  {
   "cell_type": "code",
   "execution_count": 23,
   "id": "b0ff6fe2",
   "metadata": {},
   "outputs": [],
   "source": [
    "def calculate(state: AgentState) -> AgentState:\n",
    "    if state['operation'] == '+':\n",
    "        rst = sum(state['values'])\n",
    "    elif state['operation'] == '*':\n",
    "        rst = math.prod(state['values'])\n",
    "    state['result'] = f'Hi {state['name']}, your answer is: {rst}'\n",
    "    return state"
   ]
  },
  {
   "cell_type": "code",
   "execution_count": 24,
   "id": "0a77b58a",
   "metadata": {},
   "outputs": [],
   "source": [
    "graph = StateGraph(AgentState)\n",
    "graph.add_node('calculate', calculate)\n",
    "graph.set_entry_point('calculate')\n",
    "graph.set_finish_point('calculate')\n",
    "\n",
    "app = graph.compile()"
   ]
  },
  {
   "cell_type": "code",
   "execution_count": 25,
   "id": "27082acb",
   "metadata": {},
   "outputs": [
    {
     "name": "stdout",
     "output_type": "stream",
     "text": [
      "Hi Jack Sparrow, your answer is: 10\n"
     ]
    }
   ],
   "source": [
    "result = app.invoke({'name': 'Jack Sparrow', 'values': [1,2,3,4], 'operation': '+'})\n",
    "print(result['result'])"
   ]
  }
 ],
 "metadata": {
  "kernelspec": {
   "display_name": "Python 3",
   "language": "python",
   "name": "python3"
  },
  "language_info": {
   "codemirror_mode": {
    "name": "ipython",
    "version": 3
   },
   "file_extension": ".py",
   "mimetype": "text/x-python",
   "name": "python",
   "nbconvert_exporter": "python",
   "pygments_lexer": "ipython3",
   "version": "3.13.5"
  }
 },
 "nbformat": 4,
 "nbformat_minor": 5
}
